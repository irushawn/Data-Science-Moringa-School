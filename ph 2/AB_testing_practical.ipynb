{
 "cells": [
  {
   "cell_type": "markdown",
   "id": "62d1e5e1",
   "metadata": {},
   "source": [
    "# **AB Testing and Effect Size**\n",
    "\n",
    "### AB Testing is a method used to compare two versions of a product to determine which one performs better.\n",
    "\n",
    "### Used in something like marketing or design or product development or UX/UI.\n",
    "\n",
    "### Assume you've created an online store, you have one product but two versions the first one will be: \n",
    "\n",
    "#### 1. Version A - (control) it is like your home page. \n",
    "\n",
    "#### 2. Version B - (variant) it is a new design which has a promotion banner.\n",
    "\n",
    "#### You want to test whether version B is going to difference the sales of the company. You split the two users into 2 groups, the first 1000 use \"Version A\" and the second \"Version B\".\n",
    "\n",
    "#### Null Hypothesis: There's no difference between version A and B in terms of sales conversion.\n",
    "\n",
    "#### Alternate Hypothesis: There is a significant difference between version A and B in terms of sales conversion.\n",
    "\n"
   ]
  },
  {
   "cell_type": "markdown",
   "id": "cbfebc89",
   "metadata": {},
   "source": [
    "#### The effect size measures the magnitude of the differnce between the two versions. It tells you how big the difference is (how effective the second version is).\n",
    "\n",
    "#### The P-Value shows if the difference is statistically significant.\n",
    "\n",
    "#### Assume the conversion rate for version A is 10%, the conversion rate for version B is 12%. **The effect size helps us understand if the 2% is practically meaningful**.\n"
   ]
  },
  {
   "cell_type": "markdown",
   "id": "98da9d74",
   "metadata": {},
   "source": [
    "#### Statistical Power is the probability that a test will detect a true effect.\n",
    "\n",
    "#### Example: Assume you are testing whether the metal detector is working and correctly detects metal 80% of the time. Power = 0.8."
   ]
  },
  {
   "cell_type": "markdown",
   "id": "9268c65a",
   "metadata": {},
   "source": [
    "### **AB Testing Workflow**\n",
    "\n",
    "#### Step 1: Define an objective - What metric are we trying to improve. In our case its the conversion rate.\n",
    "\n",
    "#### Step 2:Define a Hypothesis (we have done so above)\n",
    "\n",
    "#### Step 3: Calculate a sample size\n",
    "\n",
    "#### Step 4: Randomly assign users - (to avoid bias)\n",
    "\n",
    "#### Step 5: Run the test.\n",
    "\n",
    "#### Step 6: Analyze the results. Check the p-value, compute effect size.\n",
    "\n",
    "#### Step 7: Make a decision"
   ]
  },
  {
   "cell_type": "code",
   "execution_count": 4,
   "id": "18e158dd",
   "metadata": {},
   "outputs": [
    {
     "name": "stdout",
     "output_type": "stream",
     "text": [
      "Z_statistic: -1.440793230951582\n",
      "P_val: 0.1496\n"
     ]
    }
   ],
   "source": [
    "import pandas as pd\n",
    "import numpy as np\n",
    "from scipy import stats\n",
    "#used for performing z-test for proportions\n",
    "from statsmodels.stats.proportion import proportions_ztest\n",
    "# from statsmodels.stats.proportion import proportions\n",
    "\n",
    "\n",
    "\"\"\" \n",
    "Simulate the data\n",
    "Version A: 1000 visitors and 50 conversions\n",
    "Version B: 1000 visitors and 65 conversions\n",
    "\"\"\"\n",
    "visitors_a = 1000\n",
    "conversions_a = 50\n",
    "visitors_b = 1000\n",
    "conversions_b = 65\n",
    "\n",
    "\"\"\" \n",
    "We want to combine the data into numpy arrays\n",
    "The conversions are the number of conversions for each group\n",
    "The visitors are the total number of visitors for each group\n",
    "\n",
    "\"\"\"\n",
    "\n",
    "conversions = np.array([conversions_a,conversions_b])\n",
    "visitors = np.array([visitors_a,visitors_b])\n",
    "\n",
    "\n",
    "\"\"\" \n",
    "Perform a z-test.\n",
    "The test checks whether the difference in conversion rates \n",
    "between the two groups is statistically significant\n",
    "\n",
    "\"\"\"\n",
    "\"\"\"\n",
    "the count is the successes in the sample\n",
    "the nobs is the size of the sample\n",
    "\"\"\"\n",
    "stat,p_val = proportions_ztest(count=conversions,nobs=visitors)\n",
    "\n",
    "#showing how far the observed difference is from the null hypothesis\n",
    "print(f\"Z_statistic: {stat}\")\n",
    "#indicates the probability of observing such a difference if the null hypothesis were true\n",
    "print(f\"P_val: {p_val:.4f}\")\n"
   ]
  },
  {
   "cell_type": "code",
   "execution_count": null,
   "id": "0a76eab2",
   "metadata": {},
   "outputs": [],
   "source": [
    "\"\"\"  \n",
    "The Z-test and T-test criteria\n",
    "N : Size of sample\n",
    "Pop_std: Population standard deviation\n",
    "Z-Test: N>30 and Pop_std is known.\n",
    "T-test: N <30 and Pop_std is unknown.\n",
    "\"\"\""
   ]
  }
 ],
 "metadata": {
  "kernelspec": {
   "display_name": "learn-env",
   "language": "python",
   "name": "python3"
  },
  "language_info": {
   "codemirror_mode": {
    "name": "ipython",
    "version": 3
   },
   "file_extension": ".py",
   "mimetype": "text/x-python",
   "name": "python",
   "nbconvert_exporter": "python",
   "pygments_lexer": "ipython3",
   "version": "3.8.5"
  }
 },
 "nbformat": 4,
 "nbformat_minor": 5
}
