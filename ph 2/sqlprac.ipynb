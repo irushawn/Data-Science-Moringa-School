{
 "cells": [
  {
   "cell_type": "markdown",
   "id": "9a56bb5e",
   "metadata": {},
   "source": [
    "# USE CASE\n",
    "## Create a student database stored as .sqlite\n",
    "Inside the database, create three tables.\n",
    "\n",
    "- One table for students = student_id, first_name, last_name, age, gender\n",
    "- Second table for courses = course_id, course_name, credits\n",
    "- Third table for enrollments = enrollment_id, student_id, course_id, enrollment_date, grade\n",
    "\n",
    "Once complete, commit and close"
   ]
  },
  {
   "cell_type": "code",
   "execution_count": 75,
   "id": "ac19e635",
   "metadata": {},
   "outputs": [],
   "source": [
    "# Import necessary libraries\n",
    "import pandas as pd\n",
    "import sqlite3"
   ]
  },
  {
   "cell_type": "code",
   "execution_count": 76,
   "id": "336ba73f",
   "metadata": {},
   "outputs": [],
   "source": [
    "# Create the database and the tables\n",
    "conn = sqlite3.connect(\"stude.sqlite\")\n",
    "cur = conn.cursor()\n",
    "\n",
    "\n"
   ]
  },
  {
   "cell_type": "code",
   "execution_count": 79,
   "id": "f12fcc98",
   "metadata": {},
   "outputs": [
    {
     "data": {
      "text/plain": [
       "<sqlite3.Cursor at 0x12195bf5570>"
      ]
     },
     "execution_count": 79,
     "metadata": {},
     "output_type": "execute_result"
    }
   ],
   "source": [
    "# Create enrollment table\n",
    "\n",
    "cur.execute(\"\"\"\n",
    "CREATE TABLE IF NOT EXISTS enrollments(\n",
    "        enrollment_id INTEGER PRIMARY KEY,\n",
    "        student_id INTEGER,\n",
    "        course_id INTEGER,\n",
    "        enrollment_date DATE NOT NULL,\n",
    "        grade TEXT NOT NULL,\n",
    "        FOREIGN KEY (student_id) REFERENCES students(student_id),\n",
    "        FOREIGN KEY (course_id) REFERENCES courses(course_id));\n",
    "\n",
    "\"\"\")"
   ]
  },
  {
   "cell_type": "code",
   "execution_count": 78,
   "id": "7fd64ed7",
   "metadata": {},
   "outputs": [
    {
     "data": {
      "text/plain": [
       "<sqlite3.Cursor at 0x12195bf5570>"
      ]
     },
     "execution_count": 78,
     "metadata": {},
     "output_type": "execute_result"
    }
   ],
   "source": [
    "# create courses table\n",
    "\n",
    "cur.execute(\"\"\"\n",
    "CREATE TABLE IF NOT EXISTS courses(\n",
    "        course_id PRIMARY KEY,\n",
    "        course_name NOT NULL,\n",
    "        credits INTEGER);\n",
    "\n",
    "\"\"\")"
   ]
  },
  {
   "cell_type": "code",
   "execution_count": null,
   "id": "90843149",
   "metadata": {},
   "outputs": [
    {
     "data": {
      "text/plain": [
       "<sqlite3.Cursor at 0x12195bf5570>"
      ]
     },
     "execution_count": 77,
     "metadata": {},
     "output_type": "execute_result"
    }
   ],
   "source": [
    "# Create students table\n",
    "cur.execute(\"\"\"\n",
    "CREATE TABLE IF NOT EXISTS students(\n",
    "        student_id INTEGER PRIMARY KEY AUTOINCREMENT,\n",
    "        first_name TEXT NOT NULL,\n",
    "        last_nam TEXT NOT NULL,\n",
    "        age INTEGER,\n",
    "        gender TEXT);\n",
    "\n",
    "\"\"\")"
   ]
  },
  {
   "cell_type": "code",
   "execution_count": null,
   "id": "714bb14d",
   "metadata": {},
   "outputs": [],
   "source": [
    "# Insert data into the tables\n",
    "\n",
    "# insert students records\n",
    "cur.execute\n",
    "(\"\"\"\n",
    "INSERT INTO students(first_name, last_nam, age, gender)\n",
    "VALUES (?, ?, ?, ?)\n",
    "\"\"\", ('shawn', 'justus', 9,'M'), ('june', 'decimal', 19,'F'), ('Racheal', 'Wanjiru', 39,'F'));\n",
    "\n",
    "# insert courses records\n",
    "\n"
   ]
  },
  {
   "cell_type": "code",
   "execution_count": null,
   "id": "d2998c7e",
   "metadata": {},
   "outputs": [],
   "source": [
    "# Connect to the database (using both the terminal and python)\n"
   ]
  },
  {
   "cell_type": "code",
   "execution_count": null,
   "id": "91428eb1",
   "metadata": {},
   "outputs": [],
   "source": [
    "# View the existing tables\n"
   ]
  },
  {
   "cell_type": "code",
   "execution_count": null,
   "id": "0823f12e",
   "metadata": {},
   "outputs": [],
   "source": [
    "# Select all female students\n"
   ]
  },
  {
   "cell_type": "code",
   "execution_count": null,
   "id": "bb523f55",
   "metadata": {},
   "outputs": [],
   "source": [
    "# Show the two oldest students\n"
   ]
  },
  {
   "cell_type": "code",
   "execution_count": null,
   "id": "7fc28e2c",
   "metadata": {},
   "outputs": [],
   "source": [
    "# Count the students per gender\n"
   ]
  },
  {
   "cell_type": "code",
   "execution_count": null,
   "id": "0621a744",
   "metadata": {},
   "outputs": [],
   "source": [
    "# Show the full names using an alias\n"
   ]
  },
  {
   "cell_type": "code",
   "execution_count": null,
   "id": "7e5a41a8",
   "metadata": {},
   "outputs": [],
   "source": [
    "# Filter the data to show the age of students above 20\n",
    "# Use both WHERE and HAVING as different queries\n"
   ]
  },
  {
   "cell_type": "code",
   "execution_count": null,
   "id": "1ea5ebe8",
   "metadata": {},
   "outputs": [],
   "source": [
    "# Use an inner join to show students with their course names\n"
   ]
  },
  {
   "cell_type": "code",
   "execution_count": null,
   "id": "ae889845",
   "metadata": {},
   "outputs": [],
   "source": [
    "# Find students not enrolled in any course\n"
   ]
  },
  {
   "cell_type": "code",
   "execution_count": null,
   "id": "b2579974",
   "metadata": {},
   "outputs": [],
   "source": [
    "# Perform all the joins\n"
   ]
  },
  {
   "cell_type": "code",
   "execution_count": null,
   "id": "efe21915",
   "metadata": {},
   "outputs": [],
   "source": [
    "# Explain the relationships\n",
    "# If not existing, add tables to help show all the relationships\n"
   ]
  }
 ],
 "metadata": {
  "kernelspec": {
   "display_name": "learn-env",
   "language": "python",
   "name": "python3"
  },
  "language_info": {
   "codemirror_mode": {
    "name": "ipython",
    "version": 3
   },
   "file_extension": ".py",
   "mimetype": "text/x-python",
   "name": "python",
   "nbconvert_exporter": "python",
   "pygments_lexer": "ipython3",
   "version": "3.8.5"
  }
 },
 "nbformat": 4,
 "nbformat_minor": 5
}
