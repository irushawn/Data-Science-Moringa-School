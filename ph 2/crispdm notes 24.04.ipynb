{
 "cells": [
  {
   "cell_type": "markdown",
   "id": "e191f7d3",
   "metadata": {},
   "source": [
    "## **CRISP DM**\n",
    "#### CRISP DM - Cross-Industry Standard Process for Data Mining\n",
    "\n",
    "#### - A methodology used for data mining and data science projects\n",
    "\n",
    "#### - It provides a structure and iterative approach to data science projects\n",
    "\n",
    "#### - Step 1: Business Understanding\n",
    "\n",
    "#### - Step 2: Data Understanding\n",
    "\n",
    "#### - Step 3: Data Preparation\n",
    "\n",
    "#### - Step 4: Modeling\n",
    "\n",
    "#### - Step 5: Evaluation\n",
    "\n",
    "#### - Step 6: Deployment"
   ]
  },
  {
   "cell_type": "markdown",
   "id": "cc4d3f77",
   "metadata": {},
   "source": [
    "### Step 1: Business Understanding\n",
    "\n",
    "#### - The goal is to understand the domain of the problem and the project requirements from a business perspective.\n",
    "\n",
    "#### - If you are doing a project you first have to understand the domain you are in and what are the objectives of the project.\n",
    "\n",
    "#### - For example you are working for an e-commerce and they want to understand why customers churning from certain products. You are in an e-commerce setting. The goal is to help the business.\n",
    "\n",
    "#### - Deliverables: \n",
    "##### 1. Come up with objectives\n",
    "##### 2. Come up with a project plan\n",
    "\n",
    "#### - Overview/Background: (paragraph)\n",
    "\n",
    "#### - Challenges: (paragraph)\n",
    "\n",
    "#### - Proposed solution: (paragraph)\n",
    "\n",
    "#### - Brief conclusion: (paragraph)\n",
    "\n",
    "#### Problem Statement: stating a problem (as a paragraph) without giving a solution. This info is gotten from the challenges portion above.\n",
    "\n",
    "#### Objectives (most important): (each objective can require many steps to be done)\n",
    "\n",
    "##### i. To mine the sales data (assumed we dont have the data)\n",
    "\n",
    "##### ii. To analyze the customer transaction data\n",
    "\n",
    "##### iii. Create predictive models to project customer retention rates\n",
    "\n",
    "##### iv. Make recommendations and conclusions\n",
    "\n",
    "\n"
   ]
  },
  {
   "cell_type": "markdown",
   "id": "7a2f64a2",
   "metadata": {},
   "source": [
    "### Step 2: Data understanding\n",
    "\n",
    "#### - Ensure you write comments in your code\n",
    "\n",
    "#### - Find your population statistics\n",
    "\n",
    "#### - Check for the uniformity, null values, outliers, missing values\n"
   ]
  },
  {
   "cell_type": "markdown",
   "id": "9cbbe0c5",
   "metadata": {},
   "source": [
    "### Step 3: Data Preparation\n",
    "\n",
    "#### Check balance of data. Use Oversampling or Undersampling if needed.\n",
    "\n",
    "#### - Merge/concat/join if you have multiple dfs\n",
    "\n",
    "#### - Dropping of columns\n",
    "\n",
    "#### Handle null values, outliers, duplicates, missing values\n",
    "\n",
    "#### Normalize youe data\n",
    "\n",
    "#### Plotting the distributions\n",
    "\n",
    "#### Feature engineering\n",
    "\n"
   ]
  },
  {
   "cell_type": "markdown",
   "id": "b34a1c78",
   "metadata": {},
   "source": [
    "#### Step 4: Modeling\n",
    "\n",
    "#### Creating the machine learning model to find patterns in the data.\n",
    "\n",
    "##### - Select a machine learning model. Justify why you chose the particular model.\n",
    "\n",
    "##### - Build the model.\n",
    "\n",
    "##### - Evaluate the model. Check the metrics\n",
    "\n",
    "##### - Tune the model.\n",
    "\n"
   ]
  },
  {
   "cell_type": "markdown",
   "id": "687c6224",
   "metadata": {},
   "source": [
    "### Step 5: Evaluation\n",
    "\n",
    "##### Check model performance\n",
    "\n",
    "##### Check if model is statistically significant\n",
    "\n",
    "#####"
   ]
  },
  {
   "cell_type": "markdown",
   "id": "4590fa8c",
   "metadata": {},
   "source": [
    "### Step 6: Deployment\n",
    "\n",
    "#### - Save the model\n",
    "\n",
    "#### - Upload to the cloud\n",
    "\n",
    "#### - Integrate the model with a user interface"
   ]
  }
 ],
 "metadata": {
  "language_info": {
   "name": "python"
  }
 },
 "nbformat": 4,
 "nbformat_minor": 5
}
