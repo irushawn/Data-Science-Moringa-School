{
 "cells": [
  {
   "cell_type": "code",
   "execution_count": 21,
   "id": "2799c081",
   "metadata": {},
   "outputs": [
    {
     "data": {
      "image/png": "[encoded data removed]",
      "text/plain": [
       "<Figure size 432x288 with 1 Axes>"
      ]
     },
     "metadata": {
      "needs_background": "light"
     },
     "output_type": "display_data"
    }
   ],
   "source": [
    "import matplotlib.pyplot as plt\n",
    "import numpy as np\n",
    "\n",
    "X = np.array([1, 2, 3, 4, 5,6,7,8,9,10,11,12,13,14,15])\n",
    "Y = np.array([34,46,56,64,54,64,72,85,97,120,113,132,145,147,166])\n",
    "\n",
    "m, b = np.polyfit(X, Y, 1)  # Fits a linear regression (degree=1)\n",
    "\n",
    "plt.scatter(X, Y, color='blue', label='Data points')\n",
    "plt.plot(X, m*X + b, color='red', label=f'Regression line: Y = {m:.2f}X + {b:.2f}')\n",
    "plt.xlabel('X')\n",
    "plt.ylabel('Y')\n",
    "plt.legend()\n",
    "plt.grid()\n",
    "plt.show()"
   ]
  },
  {
   "cell_type": "code",
   "execution_count": null,
   "id": "23d62964",
   "metadata": {},
   "outputs": [
    {
     "data": {
      "text/plain": [
       "(19.82857142857141, 9.146428571428576)"
      ]
     },
     "execution_count": 22,
     "metadata": {},
     "output_type": "execute_result"
    }
   ],
   "source": [
    "import statsmodels.api as sm\n",
    "\n",
    "results = sm.OLS(Y, sm.add_constant(X)).fit()\n",
    "# results.params\n",
    "\n",
    "intercept = results.params[0] #c\n",
    "gradient = results.params[1] #m\n",
    "\n",
    "intercept,gradient"
   ]
  },
  {
   "cell_type": "code",
   "execution_count": null,
   "id": "aac140a3",
   "metadata": {},
   "outputs": [
    {
     "data": {
      "text/plain": [
       "array([9.45373416e-04, 1.61089135e-10])"
      ]
     },
     "execution_count": 23,
     "metadata": {},
     "output_type": "execute_result"
    }
   ],
   "source": [
    "#returns the p-value for the gradient and y-intercept\n",
    "results.pvalues\n",
    "\n",
    "#Compared to a standard alpha of 0.05, these are quite small p-values, which means that there is a statistically\n",
    "#significant difference between our coefficients and 0.\n",
    "#  In other words, both our intercept and our slope are statistically significant"
   ]
  },
  {
   "cell_type": "code",
   "execution_count": null,
   "id": "7079c261",
   "metadata": {},
   "outputs": [
    {
     "data": {
      "text/plain": [
       "(317.86344640413967, 1.6108913486797412e-10)"
      ]
     },
     "execution_count": 25,
     "metadata": {},
     "output_type": "execute_result"
    }
   ],
   "source": [
    "#To calculate the F-statistic for our model we use\n",
    "\n",
    "results.fvalue, results.f_pvalue\n",
    "\n",
    "#A high f-statistic and a low p-value (below alpha = 0.05) indicates the model is significant"
   ]
  },
  {
   "cell_type": "code",
   "execution_count": 26,
   "id": "6e9085de",
   "metadata": {},
   "outputs": [
    {
     "name": "stdout",
     "output_type": "stream",
     "text": [
      "R-squared value: 0.9607\n"
     ]
    }
   ],
   "source": [
    "# Get the R-squared value\n",
    "r_squared = results.rsquared\n",
    "\n",
    "print(f\"R-squared value: {r_squared:.4f}\")"
   ]
  },
  {
   "cell_type": "code",
   "execution_count": null,
   "id": "696e6f48",
   "metadata": {},
   "outputs": [],
   "source": []
  }
 ],
 "metadata": {
  "kernelspec": {
   "display_name": "learn-env",
   "language": "python",
   "name": "python3"
  },
  "language_info": {
   "codemirror_mode": {
    "name": "ipython",
    "version": 3
   },
   "file_extension": ".py",
   "mimetype": "text/x-python",
   "name": "python",
   "nbconvert_exporter": "python",
   "pygments_lexer": "ipython3",
   "version": "3.8.5"
  }
 },
 "nbformat": 4,
 "nbformat_minor": 5
}
